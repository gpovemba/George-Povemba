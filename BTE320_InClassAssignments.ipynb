{
  "nbformat": 4,
  "nbformat_minor": 0,
  "metadata": {
    "colab": {
      "provenance": [],
      "authorship_tag": "ABX9TyNyrzYkuqCh57AN88xZseMH",
      "include_colab_link": true
    },
    "kernelspec": {
      "name": "python3",
      "display_name": "Python 3"
    },
    "language_info": {
      "name": "python"
    }
  },
  "cells": [
    {
      "cell_type": "markdown",
      "metadata": {
        "id": "view-in-github",
        "colab_type": "text"
      },
      "source": [
        "<a href=\"https://colab.research.google.com/github/gpovemba/George-Povemba/blob/main/BTE320_InClassAssignments.ipynb\" target=\"_parent\"><img src=\"https://colab.research.google.com/assets/colab-badge.svg\" alt=\"Open In Colab\"/></a>"
      ]
    },
    {
      "cell_type": "code",
      "execution_count": null,
      "metadata": {
        "colab": {
          "base_uri": "https://localhost:8080/"
        },
        "id": "h24_HmZBy9BV",
        "outputId": "769bef1f-3820-4ed5-9ea1-b79d208ebfc8"
      },
      "outputs": [
        {
          "output_type": "stream",
          "name": "stdout",
          "text": [
            "Area is 78.5 sq.ft.\n"
          ]
        }
      ],
      "source": [
        "r = 5\n",
        "pi = 3.14\n",
        "\n",
        "area = pi * r** 2\n",
        "print('Area is', area, 'sq.ft.')"
      ]
    },
    {
      "cell_type": "code",
      "source": [
        "r = 3 #radius of the circle\n",
        "h = 10 #height of the cylinder\n",
        "pi = 3.14 #value of pi\n",
        "\n",
        "#calculate the area of the cylinder\n",
        "area = (2 * pi * r **2) + (2 * pi * r * h)\n",
        "#Display area on the screen\n",
        "print(area)"
      ],
      "metadata": {
        "colab": {
          "base_uri": "https://localhost:8080/"
        },
        "id": "pgJJNWk3zOa9",
        "outputId": "f6208f08-d8e2-4ac3-cb81-a9f62cdb8629"
      },
      "execution_count": null,
      "outputs": [
        {
          "output_type": "stream",
          "name": "stdout",
          "text": [
            "244.92000000000002\n"
          ]
        }
      ]
    },
    {
      "cell_type": "code",
      "source": [
        "#Rock Paper Sissors\n",
        "p1 = input(\"Choose r,p,s\")\n",
        "p2 = input(\"Choose r,p,s\")\n",
        "\n",
        "if p1 == p2:\n",
        "  print('Draw')\n",
        "elif (p1 =='r' and p2 == 's') or (p1 =='s' and p2 == 'p') or (p1 =='p' and p2 == 'r'): #Combining all the if statements into one elif using (and or)\n",
        "  print('p1 wins')\n",
        "else:\n",
        "  print('p2 wins')"
      ],
      "metadata": {
        "id": "o_lrPHc04Dzl"
      },
      "execution_count": null,
      "outputs": []
    }
  ]
}