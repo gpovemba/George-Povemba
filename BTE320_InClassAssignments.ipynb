{
  "nbformat": 4,
  "nbformat_minor": 0,
  "metadata": {
    "colab": {
      "provenance": [],
      "authorship_tag": "ABX9TyO2mE7R1l6/dTqEYSFbGDBq",
      "include_colab_link": true
    },
    "kernelspec": {
      "name": "python3",
      "display_name": "Python 3"
    },
    "language_info": {
      "name": "python"
    }
  },
  "cells": [
    {
      "cell_type": "markdown",
      "metadata": {
        "id": "view-in-github",
        "colab_type": "text"
      },
      "source": [
        "<a href=\"https://colab.research.google.com/github/gpovemba/George-Povemba/blob/main/BTE320_InClassAssignments.ipynb\" target=\"_parent\"><img src=\"https://colab.research.google.com/assets/colab-badge.svg\" alt=\"Open In Colab\"/></a>"
      ]
    },
    {
      "cell_type": "code",
      "execution_count": null,
      "metadata": {
        "colab": {
          "base_uri": "https://localhost:8080/"
        },
        "id": "h24_HmZBy9BV",
        "outputId": "769bef1f-3820-4ed5-9ea1-b79d208ebfc8"
      },
      "outputs": [
        {
          "output_type": "stream",
          "name": "stdout",
          "text": [
            "Area is 78.5 sq.ft.\n"
          ]
        }
      ],
      "source": [
        "r = 5\n",
        "pi = 3.14\n",
        "\n",
        "area = pi * r** 2\n",
        "print('Area is', area, 'sq.ft.')"
      ]
    },
    {
      "cell_type": "code",
      "source": [
        "r = 3 #radius of the circle\n",
        "h = 10 #height of the cylinder\n",
        "pi = 3.14 #value of pi\n",
        "\n",
        "#calculate the area of the cylinder\n",
        "area = (2 * pi * r **2) + (2 * pi * r * h)\n",
        "#Display area on the screen\n",
        "print(area)"
      ],
      "metadata": {
        "colab": {
          "base_uri": "https://localhost:8080/"
        },
        "id": "pgJJNWk3zOa9",
        "outputId": "f6208f08-d8e2-4ac3-cb81-a9f62cdb8629"
      },
      "execution_count": null,
      "outputs": [
        {
          "output_type": "stream",
          "name": "stdout",
          "text": [
            "244.92000000000002\n"
          ]
        }
      ]
    },
    {
      "cell_type": "code",
      "source": [
        "#Rock Paper Sissors\n",
        "\n",
        "c = input(\"Do you want to play another game? Choose yes or no: \")\n",
        "\n",
        "while c == 'yes':\n",
        "\n",
        "  p1 = input(\"Choose r,p,s \")\n",
        "  p2 = input(\"Choose r,p,s \")\n",
        "\n",
        "  if p1 == p2:\n",
        "    print('Draw')\n",
        "  elif (p1 =='r' and p2 == 's') or (p1 =='s' and p2 == 'p') or (p1 =='p' and p2 == 'r'): #Combining all the if statements into one elif using (and or)\n",
        "    print('p1 wins')\n",
        "  else:\n",
        "    print('p2 wins')\n",
        "\n",
        "  c = input(\"Choose yes or no \")\n"
      ],
      "metadata": {
        "id": "o_lrPHc04Dzl",
        "colab": {
          "base_uri": "https://localhost:8080/"
        },
        "outputId": "90b75c83-6158-4075-af81-97c9e76b92bc"
      },
      "execution_count": null,
      "outputs": [
        {
          "name": "stdout",
          "output_type": "stream",
          "text": [
            "Do you want to play another game? Choose yes or no: no\n"
          ]
        }
      ]
    },
    {
      "cell_type": "code",
      "source": [
        "#numerical calculator program\n",
        "\n",
        "n1 = float(input('Choose Number'))\n",
        "n2 = float(input('Choose Number'))\n",
        "symbol = input('Choose Operator')\n",
        "\n",
        "if symbol == '*':\n",
        "  print(f'n1*n2 = {n1*n2}')\n",
        "\n",
        "elif symbol == '/':\n",
        "  print(f'n1/n2 = {n1/n2}')\n",
        "\n",
        "elif symbol == '+':\n",
        "  print(f'n1+n2 = {n1+n2}')\n",
        "\n",
        "elif symbol == '-':\n",
        "  print(f'n1-n2 = {n1-n2}')\n",
        "\n",
        "elif symbol == '**':\n",
        "  print(f'n1**n2 = {n1**n2}')\n",
        "\n",
        "\n"
      ],
      "metadata": {
        "id": "p0RpJr1h9IJP"
      },
      "execution_count": null,
      "outputs": []
    },
    {
      "cell_type": "code",
      "source": [
        "#Parking garage fee\n",
        "\n",
        "flat_rate = 5\n",
        "\n",
        "for i in range(1,9,1):\n",
        "  charge = (flat_rate + 2.50 * i)\n",
        "  if charge < 10:\n",
        "    charge = 10\n",
        "  elif charge > 20:\n",
        "    charge = 20\n",
        "  print(i, charge)\n",
        "\n",
        "\n",
        "\n",
        "\n"
      ],
      "metadata": {
        "colab": {
          "base_uri": "https://localhost:8080/"
        },
        "id": "ZSAdbtj_DkCq",
        "outputId": "0f354cfd-f349-4ce3-ab0e-4c2efae60d88"
      },
      "execution_count": null,
      "outputs": [
        {
          "output_type": "stream",
          "name": "stdout",
          "text": [
            "1 10\n",
            "2 10.0\n",
            "3 12.5\n",
            "4 15.0\n",
            "5 17.5\n",
            "6 20.0\n",
            "7 20\n",
            "8 20\n"
          ]
        }
      ]
    },
    {
      "cell_type": "code",
      "source": [
        "ticket = 10.0\n",
        "attendees = 20.0\n",
        "fixed_cost = 200.0\n",
        "\n",
        "for i in range(0,201,25):\n",
        "  #i is the advertising cost\n",
        "  profit = ticket * (attendees +2 * round(i ** 0.5))- fixed_cost - i\n",
        "  print(i,profit)"
      ],
      "metadata": {
        "colab": {
          "base_uri": "https://localhost:8080/"
        },
        "id": "_QNb629CMeY0",
        "outputId": "625c0dc0-960e-469b-a389-f5ce5a5d98cd"
      },
      "execution_count": null,
      "outputs": [
        {
          "output_type": "stream",
          "name": "stdout",
          "text": [
            "0 0.0\n",
            "25 75.0\n",
            "50 90.0\n",
            "75 105.0\n",
            "100 100.0\n",
            "125 95.0\n",
            "150 90.0\n",
            "175 85.0\n",
            "200 80.0\n"
          ]
        }
      ]
    },
    {
      "cell_type": "code",
      "source": [
        "#Create list from scratch asking user to provide int inputs that the program will add to the list repeatedly until the user gives 0.\n",
        "\n",
        "L = []\n",
        "\n",
        "number = int(input('Choose a number:'))\n",
        "while number !=0:\n",
        "  L.append(number)\n",
        "  number = int(input('Choose a number:'))\n",
        "  print(L)\n"
      ],
      "metadata": {
        "colab": {
          "base_uri": "https://localhost:8080/"
        },
        "id": "wU9n3VNhVm2K",
        "outputId": "a6ea4666-85a5-44ea-8ed6-aa1977341ccb"
      },
      "execution_count": null,
      "outputs": [
        {
          "output_type": "stream",
          "name": "stdout",
          "text": [
            "Choose a number:3\n",
            "Choose a number:2\n",
            "[3]\n",
            "Choose a number:1\n",
            "[3, 2]\n",
            "Choose a number:0\n",
            "[3, 2, 1]\n"
          ]
        }
      ]
    },
    {
      "cell_type": "code",
      "source": [
        "months = {}\n",
        "\n",
        "names = ['Jan', 'Feb', 'Mar', 'Apr', 'May', 'Jun', 'Jul', 'Aug', 'Sep', 'Oct', 'Nov', 'Dec']\n",
        "numbers = [1, 2, 3, 4, 5, 6, 7, 8, 9, 10, 11, 12]\n",
        "\n",
        "for i in range(0,12,1):\n",
        "  months[numbers[i]] = names[i]\n",
        "print(months)\n",
        "\n",
        "\n",
        "\n",
        "\n"
      ],
      "metadata": {
        "colab": {
          "base_uri": "https://localhost:8080/"
        },
        "id": "28spKA5dFazC",
        "outputId": "0fa7c724-af0d-4dbf-dd64-a64b15fb4697"
      },
      "execution_count": null,
      "outputs": [
        {
          "output_type": "stream",
          "name": "stdout",
          "text": [
            "{1: 'Jan', 2: 'Feb', 3: 'Mar', 4: 'Apr', 5: 'May', 6: 'Jun', 7: 'Jul', 8: 'Aug', 9: 'Sep', 10: 'Oct', 11: 'Nov', 12: 'Dec'}\n"
          ]
        }
      ]
    },
    {
      "cell_type": "code",
      "source": [
        "#House Hunting 1\n",
        "\n",
        "annual_salary = float(input(\"Enter annual salary: \"))\n",
        "portion_saved = float(input(\"Enter the percent of salary to save: \"))\n",
        "total_cost = float(input(\"Enter total cost: \"))\n",
        "\n",
        "portion_down_payment = 0.25\n",
        "savings = 0.0\n",
        "r = 0.04\n",
        "monthly_salary = annual_salary / 12\n",
        "down_payment = total_cost * portion_down_payment\n",
        "months = 0\n",
        "\n",
        "while savings < down_payment:\n",
        "    savings += savings * (r / 12)\n",
        "    savings += portion_saved * monthly_salary\n",
        "    months += 1\n",
        "\n",
        "print(f\"Number of months: {months}\")\n",
        "\n",
        "\n"
      ],
      "metadata": {
        "colab": {
          "base_uri": "https://localhost:8080/"
        },
        "id": "X7V1rkU-XAmf",
        "outputId": "1d3bccb6-729a-4af9-c313-57f36083ab78"
      },
      "execution_count": null,
      "outputs": [
        {
          "output_type": "stream",
          "name": "stdout",
          "text": [
            "Enter your annual salary: 20\n",
            "Enter the percent of your salary to save, as a decimal: 20\n",
            "Enter the cost of your dream home: 20\n",
            "Number of months: 1\n"
          ]
        }
      ]
    },
    {
      "cell_type": "code",
      "source": [
        "#Assignment 2\n",
        "\n",
        "\n",
        "annual_salary = float(input(\"Enter annual salary: \"))\n",
        "portion_saved = float(input(\"Enter the percent of salary to save: \"))\n",
        "total_cost = float(input(\"Enter the total cost: \"))\n",
        "semi_annual_raise = float(input(\"Enter the semi-annual raise, as a decimal: \"))\n",
        "\n",
        "portion_down_payment = 0.25\n",
        "savings = 0.0\n",
        "r = 0.04\n",
        "monthly_salary = annual_salary / 12\n",
        "down_payment = total_cost * portion_down_payment\n",
        "months = 0\n",
        "\n",
        "while savings < down_payment:\n",
        "    savings += savings * (r / 12)\n",
        "    savings += portion_saved * monthly_salary\n",
        "    months += 1\n",
        "\n",
        "if months % 6 == 0:\n",
        "        annual_salary += annual_salary * semi_annual_raise\n",
        "        monthly_salary = annual_salary / 12\n",
        "print(f\"Number of months: {months}\")\n",
        "\n",
        "\n"
      ],
      "metadata": {
        "colab": {
          "base_uri": "https://localhost:8080/"
        },
        "id": "V0s7uvWQaOPu",
        "outputId": "c1ecd709-e440-48e7-f8f9-040614232c83"
      },
      "execution_count": null,
      "outputs": [
        {
          "output_type": "stream",
          "name": "stdout",
          "text": [
            "Enter annual salary: 100\n",
            "Enter the percent of salary to save: 40\n",
            "Enter the cost of dream home: 1000000\n",
            "Enter the semi-annual raise, as a decimal: 20\n",
            "Number of months: 377\n"
          ]
        }
      ]
    },
    {
      "cell_type": "code",
      "source": [
        "#Assignment 3\n",
        "\n",
        "def range_check(number, low, high):\n",
        "    if low <= number and number <= high:\n",
        "      return True\n",
        "\n",
        "    else:\n",
        "      return False\n",
        "\n",
        "print(range_check(2,1,3))\n",
        "\n"
      ],
      "metadata": {
        "colab": {
          "base_uri": "https://localhost:8080/"
        },
        "id": "VZDPJRa3bs5i",
        "outputId": "8c88a24c-9e15-4819-c98a-33a0899e8b97"
      },
      "execution_count": null,
      "outputs": [
        {
          "output_type": "stream",
          "name": "stdout",
          "text": [
            "True\n"
          ]
        }
      ]
    },
    {
      "cell_type": "code",
      "source": [
        "#Parking Garage\n",
        "\n",
        "def calcFee(hours):\n",
        "\n",
        "  parking_fee = hours * 2.5 + 5\n",
        "  return(parking_fee)\n",
        "\n",
        "h = (float(input('How many hours?')))\n",
        "calcFee(h)\n",
        "\n"
      ],
      "metadata": {
        "id": "29OxrYWbMi5W",
        "colab": {
          "base_uri": "https://localhost:8080/"
        },
        "outputId": "f3bcf767-082e-49ca-a96c-61417833dcdf"
      },
      "execution_count": 38,
      "outputs": [
        {
          "name": "stdout",
          "output_type": "stream",
          "text": [
            "How many hours?4\n"
          ]
        },
        {
          "output_type": "execute_result",
          "data": {
            "text/plain": [
              "15.0"
            ]
          },
          "metadata": {},
          "execution_count": 38
        }
      ]
    },
    {
      "cell_type": "code",
      "source": [
        "#Parking Garage Enhancements\n",
        "def displayFee(fee):\n",
        "  print(fee)\n",
        "\n",
        "def calcFee(hours,decimals = 2):\n",
        "  fee = hours * 2.5 + 5\n",
        "  fee = round(fee,decimals)\n",
        "  return(fee)\n",
        "\n",
        "h = (float(input('How many hours?')))\n",
        "fee = calcFee(h)\n",
        "x = displayFee(fee)\n",
        "print(x)\n",
        "\n",
        "\n",
        "\n"
      ],
      "metadata": {
        "colab": {
          "base_uri": "https://localhost:8080/"
        },
        "id": "h0OsMoLDR-Nd",
        "outputId": "8de1b776-8692-4b2a-eafb-e70dae0d70da"
      },
      "execution_count": 50,
      "outputs": [
        {
          "output_type": "stream",
          "name": "stdout",
          "text": [
            "How many hours?4\n",
            "15.0\n",
            "None\n"
          ]
        }
      ]
    }
  ]
}