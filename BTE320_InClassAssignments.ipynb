{
  "nbformat": 4,
  "nbformat_minor": 0,
  "metadata": {
    "colab": {
      "provenance": [],
      "authorship_tag": "ABX9TyPFVzGBkvNDZ/RGJ67nDs8f",
      "include_colab_link": true
    },
    "kernelspec": {
      "name": "python3",
      "display_name": "Python 3"
    },
    "language_info": {
      "name": "python"
    }
  },
  "cells": [
    {
      "cell_type": "markdown",
      "metadata": {
        "id": "view-in-github",
        "colab_type": "text"
      },
      "source": [
        "<a href=\"https://colab.research.google.com/github/gpovemba/George-Povemba/blob/main/BTE320_InClassAssignments.ipynb\" target=\"_parent\"><img src=\"https://colab.research.google.com/assets/colab-badge.svg\" alt=\"Open In Colab\"/></a>"
      ]
    },
    {
      "cell_type": "code",
      "execution_count": null,
      "metadata": {
        "colab": {
          "base_uri": "https://localhost:8080/"
        },
        "id": "h24_HmZBy9BV",
        "outputId": "769bef1f-3820-4ed5-9ea1-b79d208ebfc8"
      },
      "outputs": [
        {
          "output_type": "stream",
          "name": "stdout",
          "text": [
            "Area is 78.5 sq.ft.\n"
          ]
        }
      ],
      "source": [
        "r = 5\n",
        "pi = 3.14\n",
        "\n",
        "area = pi * r** 2\n",
        "print('Area is', area, 'sq.ft.')"
      ]
    },
    {
      "cell_type": "code",
      "source": [
        "r = 3 #radius of the circle\n",
        "h = 10 #height of the cylinder\n",
        "pi = 3.14 #value of pi\n",
        "\n",
        "#calculate the area of the cylinder\n",
        "area = (2 * pi * r **2) + (2 * pi * r * h)\n",
        "#Display area on the screen\n",
        "print(area)"
      ],
      "metadata": {
        "colab": {
          "base_uri": "https://localhost:8080/"
        },
        "id": "pgJJNWk3zOa9",
        "outputId": "f6208f08-d8e2-4ac3-cb81-a9f62cdb8629"
      },
      "execution_count": null,
      "outputs": [
        {
          "output_type": "stream",
          "name": "stdout",
          "text": [
            "244.92000000000002\n"
          ]
        }
      ]
    },
    {
      "cell_type": "code",
      "source": [
        "#Rock Paper Sissors\n",
        "\n",
        "c = input(\"Do you want to play another game? Choose yes or no: \")\n",
        "\n",
        "while c == 'yes':\n",
        "\n",
        "  p1 = input(\"Choose r,p,s \")\n",
        "  p2 = input(\"Choose r,p,s \")\n",
        "\n",
        "  if p1 == p2:\n",
        "    print('Draw')\n",
        "  elif (p1 =='r' and p2 == 's') or (p1 =='s' and p2 == 'p') or (p1 =='p' and p2 == 'r'): #Combining all the if statements into one elif using (and or)\n",
        "    print('p1 wins')\n",
        "  else:\n",
        "    print('p2 wins')\n",
        "\n",
        "  c = input(\"Choose yes or no \")\n"
      ],
      "metadata": {
        "id": "o_lrPHc04Dzl",
        "colab": {
          "base_uri": "https://localhost:8080/"
        },
        "outputId": "90b75c83-6158-4075-af81-97c9e76b92bc"
      },
      "execution_count": 18,
      "outputs": [
        {
          "name": "stdout",
          "output_type": "stream",
          "text": [
            "Do you want to play another game? Choose yes or no: no\n"
          ]
        }
      ]
    },
    {
      "cell_type": "code",
      "source": [
        "#Rock Paper Sissors Random Number\n",
        "import random\n",
        "\n",
        "p1 = random.choice(['r','p','s'])\n",
        "p2 = random.choice(['r','p','s'])\n",
        "\n",
        "if p1 == p2:\n",
        "  print('Draw')\n",
        "elif (p1 =='r' and p2 == 's') or (p1 =='s' and p2 == 'p') or (p1 =='p' and p2 == 'r'): #Combining all the if statements into one elif using (and or)\n",
        "  print('p1 wins')\n",
        "else:\n",
        "  print('p2 wins')"
      ],
      "metadata": {
        "colab": {
          "base_uri": "https://localhost:8080/"
        },
        "id": "IXa7AIOL8Tby",
        "outputId": "0122fcc3-dc30-477a-a48d-25afd74c953d"
      },
      "execution_count": null,
      "outputs": [
        {
          "output_type": "stream",
          "name": "stdout",
          "text": [
            "p2 wins\n"
          ]
        }
      ]
    },
    {
      "cell_type": "code",
      "source": [
        "#numerical calculator program\n",
        "\n",
        "n1 = float(input('Choose Number'))\n",
        "n2 = float(input('Choose Number'))\n",
        "symbol = input('Choose Operator')\n",
        "\n",
        "if symbol == '*':\n",
        "  print(f'n1*n2 = {n1*n2}')\n",
        "\n",
        "elif symbol == '/':\n",
        "  print(f'n1/n2 = {n1/n2}')\n",
        "\n",
        "elif symbol == '+':\n",
        "  print(f'n1+n2 = {n1+n2}')\n",
        "\n",
        "elif symbol == '-':\n",
        "  print(f'n1-n2 = {n1-n2}')\n",
        "\n",
        "elif symbol == '**':\n",
        "  print(f'n1**n2 = {n1**n2}')\n",
        "\n",
        "\n"
      ],
      "metadata": {
        "id": "p0RpJr1h9IJP"
      },
      "execution_count": null,
      "outputs": []
    },
    {
      "cell_type": "code",
      "source": [
        "#Parking garage fee\n",
        "\n",
        "flat_rate = 5\n",
        "\n",
        "for i in range(1,9,1):\n",
        "  charge = (flat_rate + 2.50 * i)\n",
        "  if charge < 10:\n",
        "    charge = 10\n",
        "  elif charge > 20:\n",
        "    charge = 20\n",
        "  print(i, charge)\n",
        "\n",
        "\n",
        "\n",
        "\n"
      ],
      "metadata": {
        "colab": {
          "base_uri": "https://localhost:8080/"
        },
        "id": "ZSAdbtj_DkCq",
        "outputId": "0f354cfd-f349-4ce3-ab0e-4c2efae60d88"
      },
      "execution_count": 37,
      "outputs": [
        {
          "output_type": "stream",
          "name": "stdout",
          "text": [
            "1 10\n",
            "2 10.0\n",
            "3 12.5\n",
            "4 15.0\n",
            "5 17.5\n",
            "6 20.0\n",
            "7 20\n",
            "8 20\n"
          ]
        }
      ]
    }
  ]
}